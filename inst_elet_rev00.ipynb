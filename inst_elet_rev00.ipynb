{
 "cells": [
  {
   "cell_type": "code",
   "execution_count": 1,
   "metadata": {},
   "outputs": [],
   "source": [
    "def potencia_fp_corrente(instalacao, tensao):\n",
    "    ''' '''\n",
    "\n",
    "    ##\n",
    "    import math\n",
    "\n",
    "    ##\n",
    "    for carga in instalacao:\n",
    "        ##\n",
    "        instalacao[carga][0] = instalacao[carga][0] * 746\n",
    "        conversao_potencia_hp_para_watts = instalacao[carga][0]\n",
    "\n",
    "        ##\n",
    "        seno = math.sin(math.acos(instalacao[carga][1]))\n",
    "        instalacao[carga].append(seno)\n",
    "\n",
    "        ##\n",
    "        potencia_ativa = instalacao[carga][0] * instalacao[carga][1]\n",
    "        potencia_reativa = instalacao[carga][0] * instalacao[carga][2]\n",
    "        instalacao[carga].append(potencia_ativa)\n",
    "        instalacao[carga].append(potencia_reativa)\n",
    "\n",
    "        ##\n",
    "        corrente_individual = instalacao[carga][0] / tensao\n",
    "        instalacao[carga].append(corrente_individual)\n",
    "\n",
    "    ##\n",
    "    cargas_ativas = []\n",
    "    cargas_reativas = [] \n",
    "\n",
    "    ##\n",
    "    for carga in instalacao:\n",
    "        cargas_ativas.append(instalacao[carga][3])\n",
    "        cargas_reativas.append(instalacao[carga][4])\n",
    "    ##\n",
    "    potencia_ativa_total = sum(cargas_ativas)\n",
    "    potencia_reativa_total = sum(cargas_reativas)\n",
    "    potencia_total = ((potencia_ativa_total) ** 2 + (potencia_reativa_total) ** 2) ** 0.5\n",
    "\n",
    "    ##\n",
    "    corrente_total = potencia_total / tensao\n",
    "\n",
    "    ##\n",
    "    fp_total = math.cos(potencia_ativa_total / potencia_total)\n",
    "\n",
    "    ##\n",
    "    return print(f'Corrente = {corrente_total} \\nPotência = {potencia_total} \\nFator de Potência = {fp_total}')"
   ]
  },
  {
   "cell_type": "code",
   "execution_count": 2,
   "metadata": {},
   "outputs": [],
   "source": [
    "def dict_inst():\n",
    "    ''' '''\n",
    "    \n",
    "    ##\n",
    "    Qntd_cargas = input('Quantidade de cargas na instalação: ')\n",
    "    ##\n",
    "    cont_Qntd_cargas = 0\n",
    "    instalacao = dict()\n",
    "    \n",
    "    ##\n",
    "    while cont_Qntd_cargas < int(Qntd_cargas):\n",
    "        ##\n",
    "        cont_Qntd_cargas += 1\n",
    "        ##\n",
    "        instalacao[f'carga {cont_Qntd_cargas}'] = []\n",
    "        ##\n",
    "        print(f'\\nInsira as informações da carga {cont_Qntd_cargas}\\n')\n",
    "        ##\n",
    "        tensao = input(f'Tensão nominal {cont_Qntd_cargas} (V): ')\n",
    "        instalacao[f'carga {cont_Qntd_cargas}'].append(float(tensao))\n",
    "        ##\n",
    "        frequencia = input(f'Frequência nominal {cont_Qntd_cargas} (Hz): ')\n",
    "        instalacao[f'carga {cont_Qntd_cargas}'].append(float(frequencia))\n",
    "        ##\n",
    "        potencia = input(f'Potência nominal {cont_Qntd_cargas} (VA): ')\n",
    "        instalacao[f'carga {cont_Qntd_cargas}'].append(float(potencia))\n",
    "        ##\n",
    "        fp = input(f'Fator de potência {cont_Qntd_cargas}: ')\n",
    "        instalacao[f'carga {cont_Qntd_cargas}'].append(float(fp))\n",
    "        ##\n",
    "        corrente = float(potencia)/float(tensao)\n",
    "        instalacao[f'carga {cont_Qntd_cargas}'].append(corrente)\n",
    "        print(f'Corrente {cont_Qntd_cargas} (A): {corrente}')\n",
    "    \n",
    "    print('\\n')\n",
    "    \n",
    "    ##\n",
    "    return instalacao"
   ]
  },
  {
   "cell_type": "code",
   "execution_count": 3,
   "metadata": {},
   "outputs": [
    {
     "name": "stdout",
     "output_type": "stream",
     "text": [
      "Quantidade de cargas na instalação: 2\n",
      "\n",
      "Insira as informações da carga 1\n",
      "\n",
      "Tensão nominal 1 (V): 220\n",
      "Frequência nominal 1 (Hz): 60\n",
      "Potência nominal 1 (VA): 5000\n",
      "Fator de potência 1: 0.85\n",
      "Corrente 1 (A): 22.727272727272727\n",
      "\n",
      "Insira as informações da carga 2\n",
      "\n",
      "Tensão nominal 2 (V): 220\n",
      "Frequência nominal 2 (Hz): 60\n",
      "Potência nominal 2 (VA): 5000\n",
      "Fator de potência 2: 0.9\n",
      "Corrente 2 (A): 22.727272727272727\n",
      "\n",
      "\n"
     ]
    },
    {
     "data": {
      "text/plain": [
       "{'carga 1': [220.0, 60.0, 5000.0, 0.85, 22.727272727272727],\n",
       " 'carga 2': [220.0, 60.0, 5000.0, 0.9, 22.727272727272727]}"
      ]
     },
     "execution_count": 3,
     "metadata": {},
     "output_type": "execute_result"
    }
   ],
   "source": [
    "dict_inst()"
   ]
  },
  {
   "cell_type": "code",
   "execution_count": null,
   "metadata": {},
   "outputs": [],
   "source": []
  }
 ],
 "metadata": {
  "kernelspec": {
   "display_name": "Python 3",
   "language": "python",
   "name": "python3"
  },
  "language_info": {
   "codemirror_mode": {
    "name": "ipython",
    "version": 3
   },
   "file_extension": ".py",
   "mimetype": "text/x-python",
   "name": "python",
   "nbconvert_exporter": "python",
   "pygments_lexer": "ipython3",
   "version": "3.7.6"
  }
 },
 "nbformat": 4,
 "nbformat_minor": 4
}
