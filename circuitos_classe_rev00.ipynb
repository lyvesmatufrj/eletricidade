{
 "cells": [
  {
   "cell_type": "code",
   "execution_count": 1,
   "metadata": {},
   "outputs": [],
   "source": [
    "class Circuito_cc():\n",
    "    'uma tentativa simples de modelar um circuito'\n",
    "    def __init__(self,fonte,cargas):\n",
    "        'inicializa os atributos fonte e cargas'\n",
    "        self.fonte = fonte\n",
    "        self.cargas = cargas\n",
    "\n",
    "    def infos_fonte(self):\n",
    "        r_eq = self.cargas[0] + 1/(1/self.cargas[1] + 1/self.cargas[2])\n",
    "        i = self.fonte/r_eq\n",
    "        p = self.fonte*i\n",
    "        print(f'E = {self.fonte} V')\n",
    "        print(f'Req = {round(r_eq,3)} ohms')\n",
    "        print(f'I = {round(i,3)} A')\n",
    "        print(f'P = {round(p,3)} W')\n",
    "        return round(r_eq,3),round(i,3),round(p,3)\n",
    "\n",
    "\n",
    "    def infos_carga(self,carga):\n",
    "        r_eq = self.cargas[0] + 1/(1/self.cargas[1] + 1/self.cargas[2])\n",
    "        i = self.fonte/r_eq\n",
    "        i_1 = i*(self.cargas[2]/(self.cargas[1] + self.cargas[2]))\n",
    "        i_2 = i - i_1\n",
    "        v_0 = i*self.cargas[0]\n",
    "        v_1 = i*1/(1/self.cargas[1] + 1/self.cargas[2])\n",
    "        p_0 = v_0*i \n",
    "        p_1 = v_1*i_1\n",
    "        p_2 = v_1*i_2\n",
    "        if carga == 0:\n",
    "            print(f'R_0 = {round(self.cargas[0],0)} ohms')\n",
    "            print(f'V_0 = {round(v_0,3)} V')\n",
    "            print(f'I_0 = {round(i,3)} A')\n",
    "            print(f'P_0 = {round(p_0,3)} W')\n",
    "            return round(v_0,3), round(i,3), round(p_0,3)\n",
    "        if carga == 1:\n",
    "            print(f'R_1 = {round(self.cargas[1],1)} ohms')\n",
    "            print(f'V_1 = {round(v_1,3)} V')\n",
    "            print(f'I_1 = {round(i_1,3)} A')\n",
    "            print(f'P_1 = {round(p_1,3)} W')\n",
    "            return round(v_1,3), round(i_1,3), round(p_1,3)\n",
    "        if carga == 2:\n",
    "            print(f'R_2 = {round(self.cargas[2],2)} ohms')\n",
    "            print(f'V_2 = {round(v_1,3)} V')\n",
    "            print(f'I_2 = {round(i_2,3)} A')\n",
    "            print(f'P_2 = {round(p_2,3)} W')\n",
    "            return round(v_1,3), round(i_2,3), round(p_2,3)"
   ]
  },
  {
   "cell_type": "code",
   "execution_count": 2,
   "metadata": {},
   "outputs": [],
   "source": [
    "x = Circuito_cc(100,[3.365,4.64,5.6])"
   ]
  },
  {
   "cell_type": "code",
   "execution_count": 3,
   "metadata": {},
   "outputs": [
    {
     "name": "stdout",
     "output_type": "stream",
     "text": [
      "E = 100 V\n",
      "Req = 5.902 ohms\n",
      "I = 16.942 A\n",
      "P = 1694.197 W\n"
     ]
    },
    {
     "data": {
      "text/plain": [
       "(5.902, 16.942, 1694.197)"
      ]
     },
     "execution_count": 3,
     "metadata": {},
     "output_type": "execute_result"
    }
   ],
   "source": [
    "x.infos_fonte()"
   ]
  },
  {
   "cell_type": "code",
   "execution_count": 4,
   "metadata": {},
   "outputs": [
    {
     "name": "stdout",
     "output_type": "stream",
     "text": [
      "R_0 = 3.0 ohms\n",
      "V_0 = 57.01 V\n",
      "I_0 = 16.942 A\n",
      "P_0 = 965.858 W\n"
     ]
    },
    {
     "data": {
      "text/plain": [
       "(57.01, 16.942, 965.858)"
      ]
     },
     "execution_count": 4,
     "metadata": {},
     "output_type": "execute_result"
    }
   ],
   "source": [
    "x.infos_carga(0)"
   ]
  },
  {
   "cell_type": "code",
   "execution_count": 5,
   "metadata": {},
   "outputs": [
    {
     "name": "stdout",
     "output_type": "stream",
     "text": [
      "R_1 = 4.6 ohms\n",
      "V_1 = 42.99 V\n",
      "I_1 = 9.265 A\n",
      "P_1 = 398.311 W\n"
     ]
    },
    {
     "data": {
      "text/plain": [
       "(42.99, 9.265, 398.311)"
      ]
     },
     "execution_count": 5,
     "metadata": {},
     "output_type": "execute_result"
    }
   ],
   "source": [
    "x.infos_carga(1)"
   ]
  },
  {
   "cell_type": "code",
   "execution_count": 6,
   "metadata": {},
   "outputs": [
    {
     "name": "stdout",
     "output_type": "stream",
     "text": [
      "R_2 = 5.6 ohms\n",
      "V_2 = 42.99 V\n",
      "I_2 = 7.677 A\n",
      "P_2 = 330.029 W\n"
     ]
    },
    {
     "data": {
      "text/plain": [
       "(42.99, 7.677, 330.029)"
      ]
     },
     "execution_count": 6,
     "metadata": {},
     "output_type": "execute_result"
    }
   ],
   "source": [
    "x.infos_carga(2)"
   ]
  }
 ],
 "metadata": {
  "kernelspec": {
   "display_name": "Python 3",
   "language": "python",
   "name": "python3"
  },
  "language_info": {
   "codemirror_mode": {
    "name": "ipython",
    "version": 3
   },
   "file_extension": ".py",
   "mimetype": "text/x-python",
   "name": "python",
   "nbconvert_exporter": "python",
   "pygments_lexer": "ipython3",
   "version": "3.7.6"
  }
 },
 "nbformat": 4,
 "nbformat_minor": 4
}
