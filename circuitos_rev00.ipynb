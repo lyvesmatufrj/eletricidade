{
 "cells": [
  {
   "cell_type": "markdown",
   "metadata": {},
   "source": [
    "# Bibliotecas"
   ]
  },
  {
   "cell_type": "code",
   "execution_count": 1,
   "metadata": {},
   "outputs": [],
   "source": [
    "import numpy as np\n",
    "import pandas as pd"
   ]
  },
  {
   "cell_type": "markdown",
   "metadata": {},
   "source": [
    "# Classes"
   ]
  },
  {
   "cell_type": "code",
   "execution_count": 3,
   "metadata": {},
   "outputs": [],
   "source": [
    "class Circuito_CA():\n",
    "    'uma tentativa simples de modelar um circuito'\n",
    "    def __init__(self,fonte,cargas):\n",
    "        'inicializa os atributos fonte e cargas'\n",
    "        self.fonte = fonte\n",
    "        self.cargas = cargas\n",
    "\n",
    "    def infos_fonte(self):\n",
    "        z_eq = self.cargas[0] + 1/(1/self.cargas[1] + 1/self.cargas[2])\n",
    "        i = self.fonte/z_eq\n",
    "        s = self.fonte*np.conjugate(i)\n",
    "        fp = np.cos(np.angle(z_eq))\n",
    "        data = {'Tensão (V)': [round(np.absolute(self.fonte),3)],\n",
    "                'Corrente (A)': [round(np.absolute(i),3)],\n",
    "                'Potência (VA)': [round(np.absolute(s),3)],\n",
    "                'FP': [round(fp,3)]}\n",
    "        planilha = pd.DataFrame(data,index=['Fonte'])\n",
    "        display(planilha)\n",
    "        #print(f'E = {round(np.absolute(self.fonte),3)}|{round(np.angle(self.fonte,deg=True),3)}° V')\n",
    "        #print(f'Zeq = {round(np.absolute(z_eq),3)}|{round(np.angle(z_eq,deg=True),3)}° ohms')\n",
    "        #print(f'I = {round(np.absolute(i),3)}|{round(np.angle(i,deg=True),3)}° A')\n",
    "        #print(f'S = {round(np.absolute(s),3)}|{round(np.angle(s,deg=True),3)}° VA')\n",
    "        #print(f'FP = {round(fp,3)}')\n",
    "        return round(z_eq,3),round(i,3),round(s,3),round(fp,3)\n",
    "\n",
    "    def infos_carga(self,carga=3):\n",
    "        z_eq = self.cargas[0] + 1/(1/self.cargas[1] + 1/self.cargas[2])\n",
    "        i = self.fonte/z_eq\n",
    "        i_1 = i*(self.cargas[2]/(self.cargas[1] + self.cargas[2]))\n",
    "        i_2 = i - i_1\n",
    "        v_0,v_1 = i*self.cargas[0],i*1/(1/self.cargas[1] + 1/self.cargas[2])\n",
    "        s_0,s_1,s_2 = v_0*np.conjugate(i),v_1*np.conjugate(i_1),v_1*np.conjugate(i_2)\n",
    "        fp_0,fp_1,fp_2 = np.cos(np.angle(self.cargas[0])),np.cos(np.angle(self.cargas[1])),np.cos(np.angle(self.cargas[2]))\n",
    "        \n",
    "        if carga == 3:\n",
    "            data = {'Tensão (V)': [round(np.absolute(v_0),3),round(np.absolute(v_1),3),round(np.absolute(v_1),3)],\n",
    "                'Corrente (A)': [round(np.absolute(i),3),round(np.absolute(i_1),3),round(np.absolute(i_2),3)],\n",
    "                'Potência (VA)': [round(np.absolute(s_0),3),round(np.absolute(s_1),3),round(np.absolute(s_2),3)],\n",
    "                'FP': [round(fp_0,3),round(fp_1,3),round(fp_2,3)]}\n",
    "            planilha = pd.DataFrame(data,index=['Carga 0','Carga 1','Carga 2'])\n",
    "            display(planilha)\n",
    "        if carga == 0:            \n",
    "            print(f'Z_0 = {round(np.absolute(self.cargas[0]),3)}|{round(np.angle(self.cargas[0],deg=True),3)}° ohms')\n",
    "            print(f'V_0 = {round(np.absolute(v_0),3)}|{round(np.angle(v_0,deg=True),3)}° V')\n",
    "            print(f'I_0 = {round(np.absolute(i),3)}|{round(np.angle(i,deg=True),3)}° A')\n",
    "            print(f'S_0 = {round(np.absolute(s_0),3)}|{round(np.angle(s_0,deg=True),3)}° VA')\n",
    "            print(f'FP_0 = {round(fp_0,3)}')\n",
    "            return round(v_0,3), round(i,3), round(s_0,3),round(fp_0,3)\n",
    "        if carga == 1:\n",
    "            print(f'Z_1 = {round(np.absolute(self.cargas[1]),3)}|{round(np.angle(self.cargas[1],deg=True),3)}° ohms')\n",
    "            print(f'V_1 = {round(np.absolute(v_1),3)}|{round(np.angle(v_1,deg=True),3)}° V')\n",
    "            print(f'I_1 = {round(np.absolute(i_1),3)}|{round(np.angle(i_1,deg=True),3)}° A')\n",
    "            print(f'S_1 = {round(np.absolute(s_1),3)}|{round(np.angle(s_1,deg=True),3)}° VA')\n",
    "            print(f'FP_1 = {round(fp_1,3)}')\n",
    "            return round(v_1,3), round(i_1,3), round(s_1,3),round(fp_1,3)\n",
    "        if carga == 2:\n",
    "            print(f'Z_2 = {round(np.absolute(self.cargas[2]),3)}|{round(np.angle(self.cargas[2],deg=True),3)}° ohms')\n",
    "            print(f'V_2 = {round(np.absolute(v_1),3)}|{round(np.angle(v_1,deg=True),3)}° V')\n",
    "            print(f'I_2 = {round(np.absolute(i_2),3)}|{round(np.angle(i_2,deg=True),3)}° A')\n",
    "            print(f'S_2 = {round(np.absolute(s_2),3)}|{round(np.angle(s_2,deg=True),3)}° VA')\n",
    "            print(f'FP_2 = {round(fp_2,3)}')\n",
    "            return round(v_1,3), round(i_2,3), round(s_2,3),round(fp_2,3)"
   ]
  },
  {
   "cell_type": "markdown",
   "metadata": {},
   "source": [
    "# Fórmulas "
   ]
  },
  {
   "cell_type": "code",
   "execution_count": 25,
   "metadata": {},
   "outputs": [],
   "source": [
    "def reatancia(f,tipo,valor):\n",
    "    if tipo == -1:\n",
    "        x_c = 1/(2*(np.pi)*f*valor)\n",
    "        return -1j*x_c\n",
    "    if tipo == 1:\n",
    "        x_l = 2*(np.pi)*f*valor\n",
    "        return 1j*x_l\n",
    "\n",
    "def polar(z):\n",
    "    return (round(np.absolute(z),3),round(np.angle(z,deg=True),3),'polar')\n",
    "\n",
    "def div_pol(z1,z2):\n",
    "    return (np.absolute(z1)/np.absolute(z2),np.angle(z1,deg=True)-np.angle(z2,deg=True),'polar')\n",
    "\n",
    "def imp_mod_ang(mod,fp,tipo):\n",
    "    if tipo == 1:\n",
    "        return np.round(op_rot(mod,(180/np.pi)*np.arccos(fp)),3)\n",
    "    if tipo == -1:\n",
    "        return np.round(op_rot(mod,-(180/np.pi)*np.arccos(fp)),3)    \n",
    "\n",
    "def retangular(z):\n",
    "    ang_rad_comp = (np.pi/180)*z[1]*1j\n",
    "    return z[0]*np.exp(ang_rad_comp)\n",
    "\n",
    "def cap_crrg_fp(s,v,f,fp_i,fp_n):\n",
    "    ang_i = np.arccos(fp_i)\n",
    "    ang_f = np.arccos(fp_n)\n",
    "    p = s*fp_i\n",
    "    delta_q = p*(np.tan(ang_i) - np.tan(ang_f))\n",
    "    vel_ang = 2*np.pi*f\n",
    "    return (delta_q)/((v**2)*vel_ang)\n",
    "\n",
    "def zeq_p(list_imp,pol=0):\n",
    "    s_p = 0\n",
    "    for i in list_imp:\n",
    "        s_p += 1/i\n",
    "    if pol == 1:\n",
    "        return polar(1/s_p)\n",
    "    return np.round(1/s_p,3)\n",
    "\n",
    "def zeq_s(list_imp,pol=0):\n",
    "    s_p = 0\n",
    "    for i in list_imp:\n",
    "        s_p += i\n",
    "    if pol == 1:\n",
    "        return polar(s_p)\n",
    "    return s_p\n",
    "\n",
    "def op_rot(modulo,angulo):\n",
    "    ang_rad_comp = 1j*((np.pi/180)*angulo)\n",
    "    return np.round(modulo*np.exp(ang_rad_comp),3)\n",
    "\n",
    "def delta_y(ra,rb,rc):\n",
    "    r1 = (rb*rc)/(ra+rb+rc)\n",
    "    r2 = (ra*rc)/(ra+rb+rc)\n",
    "    r3 = (ra*rb)/(ra+rb+rc)\n",
    "    print(f'r1 = {r1}')\n",
    "    print(f'r2 = {r2}')\n",
    "    print(f'r3 = {r3}')\n",
    "    return [r1,r2,r3]\n",
    "\n",
    "def y_delta(r1,r2,r3):\n",
    "    ra = (r1*r2 + r2*r3 + r1*r3)/r1\n",
    "    rb = (r1*r2 + r2*r3 + r1*r3)/r2\n",
    "    rc = (r1*r2 + r2*r3 + r1*r3)/r3\n",
    "    print(f'ra = {ra}')\n",
    "    print(f'rb = {rb}')\n",
    "    print(f'rc = {rc}')\n",
    "    return [ra,rb,rc]   \n",
    "\n",
    "def delta_3fv(vp,seq,fase_ref,prt = True):\n",
    "    a = op_rot(1,120)\n",
    "    vf = op_rot(vp,fase_ref)\n",
    "    if seq == 1:\n",
    "        vab = vf*(a**0)\n",
    "        vbc = vf*(a**2)\n",
    "        vca = vf*(a**1)\n",
    "        if prt == False:\n",
    "            return[vab,vbc,vca]\n",
    "        print(f'vab = {polar(vab)}')\n",
    "        print(f'vbc = {polar(vbc)}')\n",
    "        print(f'vca = {polar(vca)}')\n",
    "        return[vab,vbc,vca]\n",
    "    if seq == -1:\n",
    "        vab = vf*(a**0)\n",
    "        vbc = vf*(a**1)\n",
    "        vca = vf*(a**2)\n",
    "        if prt == False:\n",
    "            return[vab,vbc,vca]\n",
    "        print(f'vab = {polar(vab)}')\n",
    "        print(f'vbc = {polar(vbc)}')\n",
    "        print(f'vca = {polar(vca)}')\n",
    "        return[vab,vbc,vca]\n",
    "    \n",
    "def y_3fv(vp,seq,fase_ref,prt=True):\n",
    "    a = op_rot(1,120)\n",
    "    b = op_rot(np.sqrt(3),30)\n",
    "    vf = op_rot(vp,fase_ref)\n",
    "    if seq == 1:\n",
    "        van,vbn,vcn = vf*(a**0),vf*(a**2),vf*(a**1)\n",
    "        vab,vbc,vca = b*van,b*vbn,b*vcn\n",
    "        if prt == False:\n",
    "            return [van,vbn,vcn],[vab,vbc,vca]\n",
    "        print(f'van = {polar(van)}| vbn = {polar(vbn)}| vcn = {polar(vcn)}')\n",
    "        print(f'vab = {polar(vab)}| vbc = {polar(vbc)}| vca = {polar(vca)}')\n",
    "        return [van,vbn,vcn],[vab,vbc,vca]\n",
    "    if seq == -1:\n",
    "        van,vbn,vcn = vf*(a**0),vf*(a**1),vf*(a**2)\n",
    "        vab,vbc,vca = b*van,b*vbn,b*vcn\n",
    "        if prt == False:\n",
    "            return [van,vbn,vcn],[vab,vbc,vca]\n",
    "        print(f'van = {polar(van)}| vbn = {polar(vbn)}| vcn = {polar(vcn)}')\n",
    "        print(f'vab = {polar(vab)}| vbc = {polar(vbc)}| vca = {polar(vca)}')\n",
    "        return [van,vbn,vcn],[vab,vbc,vca]\n",
    "    \n",
    "def delta_3fi(vp,seq,fase_ref,z,prt=True):\n",
    "    v3f = delta_3fv(vp,seq,fase_ref,False)\n",
    "    iab,ibc,ica = v3f[0]/z,v3f[1]/z,v3f[2]/z\n",
    "    ia,ib,ic = iab - ica, ibc - iab, ica - ibc\n",
    "    if prt == False:\n",
    "        return [iab,ibc,ica],[ia,ib,ic]\n",
    "    print(f'iab = {polar(iab)}| ibc = {polar(ibc)}| ica = {polar(ica)}')\n",
    "    print(f'ia = {polar(ia)}| ib = {polar(ib)}| ic = {polar(ic)}')\n",
    "    return [iab,ibc,ica],[ia,ib,ic]\n",
    "\n",
    "def y_3fi(vp,seq,fase_ref,z,prt=True):\n",
    "    v3f = y_3fv(vp,seq,fase_ref,False)\n",
    "    ia,ib,ic = v3f[0][0]/z,v3f[0][1]/z,v3f[0][2]/z\n",
    "    i_n = ia + ib + ic\n",
    "    if prt == False:\n",
    "        return [ia,ib,ic,i_n]\n",
    "    print(f'ia = {polar(ia)}| ib = {polar(ib)}| ic = {polar(ic)}| in = {polar(i_n)}')\n",
    "    return [ia,ib,ic,i_n]\n",
    "\n",
    "def ref_trafo(valor,grandeza,n1,n2,lado,pol=1):\n",
    "    n = pol*n2/n1\n",
    "    if lado == 'p':\n",
    "        if grandeza == 'v':\n",
    "            return valor/n\n",
    "        if grandeza == 'i':\n",
    "            return valor*n\n",
    "        if grandeza == 'z':\n",
    "            return valor/(n**2)\n",
    "    if lado == 's':\n",
    "        if grandeza == 'v':\n",
    "            return valor*n\n",
    "        if grandeza == 'i':\n",
    "            return valor/n\n",
    "        if grandeza == 'z':\n",
    "            return valor*(n**2)   \n",
    "        \n",
    "def rend_trafo(n1,n2,lado,rp,xp,rs,xs,rc,xm,z_l,pot,fp=1):\n",
    "    s_carga = pot/fp, \n",
    "    v_carga = np.sqrt(s_carga)\n",
    "    pass"
   ]
  },
  {
   "cell_type": "markdown",
   "metadata": {},
   "source": [
    "# Resoluções"
   ]
  },
  {
   "cell_type": "code",
   "execution_count": 26,
   "metadata": {},
   "outputs": [
    {
     "name": "stdout",
     "output_type": "stream",
     "text": [
      "r1 = 6.0\n",
      "r2 = 9.0\n",
      "r3 = 18.0\n"
     ]
    },
    {
     "data": {
      "text/plain": [
       "[6.0, 9.0, 18.0]"
      ]
     },
     "execution_count": 26,
     "metadata": {},
     "output_type": "execute_result"
    }
   ],
   "source": [
    "delta_y(54,36,18)"
   ]
  },
  {
   "cell_type": "code",
   "execution_count": 30,
   "metadata": {},
   "outputs": [
    {
     "data": {
      "text/plain": [
       "(5.135+7.469j)"
      ]
     },
     "execution_count": 30,
     "metadata": {},
     "output_type": "execute_result"
    }
   ],
   "source": [
    "z1 = 4 + 20j\n",
    "z2 = 16\n",
    "z3 = 11j\n",
    "zeq_p([z2,z3])"
   ]
  },
  {
   "cell_type": "code",
   "execution_count": 31,
   "metadata": {},
   "outputs": [
    {
     "data": {
      "text/plain": [
       "(9.064, 55.491, 'polar')"
      ]
     },
     "execution_count": 31,
     "metadata": {},
     "output_type": "execute_result"
    }
   ],
   "source": [
    "polar(zeq_p([z2,z3]))"
   ]
  },
  {
   "cell_type": "code",
   "execution_count": 32,
   "metadata": {},
   "outputs": [
    {
     "data": {
      "text/plain": [
       "(9.135+27.469j)"
      ]
     },
     "execution_count": 32,
     "metadata": {},
     "output_type": "execute_result"
    }
   ],
   "source": [
    "np.round(z1 + zeq_p([z2,z3]),3)"
   ]
  },
  {
   "cell_type": "code",
   "execution_count": 33,
   "metadata": {},
   "outputs": [
    {
     "data": {
      "text/plain": [
       "(28.948, 71.605, 'polar')"
      ]
     },
     "execution_count": 33,
     "metadata": {},
     "output_type": "execute_result"
    }
   ],
   "source": [
    "polar(np.round(z1 + zeq_p([z2,z3]),3))"
   ]
  },
  {
   "cell_type": "code",
   "execution_count": 34,
   "metadata": {},
   "outputs": [],
   "source": [
    "z1 = 2\n",
    "z2 = 10 - 5j\n",
    "z3 = 8 + 6j"
   ]
  },
  {
   "cell_type": "code",
   "execution_count": 35,
   "metadata": {},
   "outputs": [
    {
     "data": {
      "text/plain": [
       "((11.18, -26.565, 'polar'), (10.0, 36.87, 'polar'))"
      ]
     },
     "execution_count": 35,
     "metadata": {},
     "output_type": "execute_result"
    }
   ],
   "source": [
    "polar(z2),polar(z3)"
   ]
  },
  {
   "cell_type": "code",
   "execution_count": 36,
   "metadata": {},
   "outputs": [
    {
     "data": {
      "text/plain": [
       "(6.154+0.769j)"
      ]
     },
     "execution_count": 36,
     "metadata": {},
     "output_type": "execute_result"
    }
   ],
   "source": [
    "zeq_p([z2,z3])"
   ]
  },
  {
   "cell_type": "code",
   "execution_count": 38,
   "metadata": {},
   "outputs": [
    {
     "data": {
      "text/plain": [
       "(6.202, 7.123, 'polar')"
      ]
     },
     "execution_count": 38,
     "metadata": {},
     "output_type": "execute_result"
    }
   ],
   "source": [
    "polar(zeq_p([z2,z3]))"
   ]
  },
  {
   "cell_type": "code",
   "execution_count": 39,
   "metadata": {},
   "outputs": [
    {
     "data": {
      "text/plain": [
       "(8.154+0.769j)"
      ]
     },
     "execution_count": 39,
     "metadata": {},
     "output_type": "execute_result"
    }
   ],
   "source": [
    "np.round(z1 + zeq_p([z2,z3]),3)"
   ]
  },
  {
   "cell_type": "code",
   "execution_count": 40,
   "metadata": {},
   "outputs": [
    {
     "data": {
      "text/plain": [
       "(8.19, 5.388, 'polar')"
      ]
     },
     "execution_count": 40,
     "metadata": {},
     "output_type": "execute_result"
    }
   ],
   "source": [
    "polar(np.round(z1 + zeq_p([z2,z3]),3))"
   ]
  },
  {
   "cell_type": "code",
   "execution_count": null,
   "metadata": {},
   "outputs": [],
   "source": []
  }
 ],
 "metadata": {
  "kernelspec": {
   "display_name": "Python 3",
   "language": "python",
   "name": "python3"
  },
  "language_info": {
   "codemirror_mode": {
    "name": "ipython",
    "version": 3
   },
   "file_extension": ".py",
   "mimetype": "text/x-python",
   "name": "python",
   "nbconvert_exporter": "python",
   "pygments_lexer": "ipython3",
   "version": "3.7.6"
  }
 },
 "nbformat": 4,
 "nbformat_minor": 4
}
