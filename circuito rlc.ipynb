{
 "cells": [
  {
   "cell_type": "code",
   "execution_count": 1,
   "metadata": {},
   "outputs": [],
   "source": [
    "import numpy as np"
   ]
  },
  {
   "cell_type": "code",
   "execution_count": 19,
   "metadata": {},
   "outputs": [],
   "source": [
    "def freq(r,l,c,amort=True):\n",
    "    alfa = 1/(2*r*c)\n",
    "    omega_0 = 1/np.sqrt(l*c)\n",
    "    if alfa > omega_0:\n",
    "        if amort == True:\n",
    "            print('amortecimento supercrítico')\n",
    "        return alfa,omega_0\n",
    "    if alfa == omega_0:\n",
    "        if amort == True:\n",
    "            print('amortecimento crítico')\n",
    "        return alfa,omega_0\n",
    "    if alfa < omega_0:\n",
    "        omega_d = np.sqrt(omega_0**2 - alfa**2)\n",
    "        if amort == True:\n",
    "            print('subamortecimento')\n",
    "        return alfa,omega_0,omega_d\n",
    "    \n",
    "def param_s(r,l,c):\n",
    "    alfa = 1/(2*r*c)\n",
    "    omega_0 = 1/np.sqrt(l*c)\n",
    "    s1 = -alfa + np.sqrt(alfa**2 - omega_0**2)\n",
    "    s2 = -alfa - np.sqrt(alfa**2 - omega_0**2)\n",
    "    if alfa < omega_0:\n",
    "        omega_d = np.sqrt(omega_0**2 - alfa**2)\n",
    "        s1 = -alfa + 1j*np.sqrt(omega_0**2 - alfa**2)\n",
    "        s2 = -alfa - 1j*np.sqrt(omega_0**2 - alfa**2)\n",
    "        return s1,s2\n",
    "    return s1,s2"
   ]
  },
  {
   "cell_type": "code",
   "execution_count": 20,
   "metadata": {},
   "outputs": [
    {
     "name": "stdout",
     "output_type": "stream",
     "text": [
      "subamortecimento\n"
     ]
    },
    {
     "data": {
      "text/plain": [
       "((8.0, 10.0, 6.0), ((-8+6j), (-8-6j)))"
      ]
     },
     "execution_count": 20,
     "metadata": {},
     "output_type": "execute_result"
    }
   ],
   "source": [
    "r = 6.25\n",
    "l = 1\n",
    "c = 10e-3\n",
    "\n",
    "freq(r,l,c),param_s(r,l,c)"
   ]
  },
  {
   "cell_type": "code",
   "execution_count": 14,
   "metadata": {},
   "outputs": [
    {
     "data": {
      "text/plain": [
       "nan"
      ]
     },
     "execution_count": 14,
     "metadata": {},
     "output_type": "execute_result"
    }
   ],
   "source": [
    "np.sqrt(-1)"
   ]
  },
  {
   "cell_type": "code",
   "execution_count": null,
   "metadata": {},
   "outputs": [],
   "source": []
  }
 ],
 "metadata": {
  "kernelspec": {
   "display_name": "Python 3",
   "language": "python",
   "name": "python3"
  },
  "language_info": {
   "codemirror_mode": {
    "name": "ipython",
    "version": 3
   },
   "file_extension": ".py",
   "mimetype": "text/x-python",
   "name": "python",
   "nbconvert_exporter": "python",
   "pygments_lexer": "ipython3",
   "version": "3.7.6"
  }
 },
 "nbformat": 4,
 "nbformat_minor": 4
}
